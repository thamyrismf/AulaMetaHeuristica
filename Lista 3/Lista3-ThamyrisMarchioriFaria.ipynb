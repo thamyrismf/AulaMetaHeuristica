{
 "cells": [
  {
   "attachments": {},
   "cell_type": "markdown",
   "metadata": {},
   "source": [
    "1. Faça um programa que determine e mostre os cinco primeiros múltiplos de 3,\n",
    "considerando números maiores que 0."
   ]
  },
  {
   "cell_type": "code",
   "execution_count": 1,
   "metadata": {},
   "outputs": [
    {
     "name": "stdout",
     "output_type": "stream",
     "text": [
      "3\n",
      "6\n",
      "9\n",
      "12\n",
      "15\n"
     ]
    }
   ],
   "source": [
    "for n in range(1,6):\n",
    "    print(n*3)"
   ]
  },
  {
   "attachments": {},
   "cell_type": "markdown",
   "metadata": {},
   "source": [
    "2. Escreva um programa que escreva na tela, de 1 até 100, de 1 em 1, duas vezes.\n",
    "A primeira vez deve usar a estrutura de repetição for e a segunda while."
   ]
  },
  {
   "cell_type": "code",
   "execution_count": null,
   "metadata": {},
   "outputs": [],
   "source": [
    "for n in range (1,100):\n",
    "    print (n)"
   ]
  },
  {
   "cell_type": "code",
   "execution_count": null,
   "metadata": {},
   "outputs": [],
   "source": [
    "x=0\n",
    "while x<100:\n",
    "    x+=1\n",
    "    print(x)"
   ]
  },
  {
   "attachments": {},
   "cell_type": "markdown",
   "metadata": {},
   "source": [
    "3. Faça um algoritmo utilizando o comando while que mostra uma contagem regressiva na tela, iniciando em 10 e terminando em 0. Mostrar uma mensagem “FIM!” após a contagem."
   ]
  },
  {
   "cell_type": "code",
   "execution_count": null,
   "metadata": {},
   "outputs": [],
   "source": [
    "x=11\n",
    "while x>0:\n",
    "    x-=1\n",
    "    print(x)\n",
    "print(\"FIM!\")"
   ]
  },
  {
   "attachments": {},
   "cell_type": "markdown",
   "metadata": {},
   "source": [
    "4. Escreva um programa que declare um inteiro, inicialize-o com 0, e incremente-o de 1000 em 1000, imprimindo seu valor na tela, até que seu valor seja 100000 (cem mil)."
   ]
  },
  {
   "cell_type": "code",
   "execution_count": null,
   "metadata": {},
   "outputs": [],
   "source": [
    "x=0\n",
    "while True:\n",
    "    print (x)\n",
    "    x+=1000\n",
    "    if x>100000:\n",
    "        break"
   ]
  },
  {
   "attachments": {},
   "cell_type": "markdown",
   "metadata": {},
   "source": [
    "5. Faça um programa que peça ao usuário para digitar 10 valores e some-os."
   ]
  },
  {
   "cell_type": "code",
   "execution_count": 53,
   "metadata": {},
   "outputs": [
    {
     "name": "stdout",
     "output_type": "stream",
     "text": [
      "Insira 10 números inteiros e ao final será dada a soma.\n",
      "Valor inserido: 1\n",
      "Valor inserido: 1\n",
      "Valor inserido: 1\n",
      "Valor inserido: 1\n",
      "Valor inserido: 1\n",
      "Valor inserido: 1\n",
      "Valor inserido: 1\n",
      "Valor inserido: 1\n",
      "Valor inserido: 1\n",
      "Valor inserido: 1\n",
      "Soma: 10\n"
     ]
    }
   ],
   "source": [
    "print(\"Insira 10 números inteiros e ao final será dada a soma.\")\n",
    "soma=0\n",
    "for i in range(0,10):\n",
    "    x=int(input())\n",
    "    print(\"Valor inserido:\",x)\n",
    "    soma+=x\n",
    "print(\"Soma:\",soma)"
   ]
  },
  {
   "attachments": {},
   "cell_type": "markdown",
   "metadata": {},
   "source": [
    "6. Faça um programa que leia 10 inteiros e imprima sua média."
   ]
  },
  {
   "cell_type": "code",
   "execution_count": 54,
   "metadata": {},
   "outputs": [
    {
     "name": "stdout",
     "output_type": "stream",
     "text": [
      "Insira 10 números inteiros e ao final será dada a média.\n",
      "Valor inserido: 1\n",
      "Valor inserido: 1\n",
      "Valor inserido: 1\n",
      "Valor inserido: 1\n",
      "Valor inserido: 1\n",
      "Valor inserido: 1\n",
      "Valor inserido: 1\n",
      "Valor inserido: 1\n",
      "Valor inserido: 1\n",
      "Valor inserido: 1\n",
      "Média: 1.0\n"
     ]
    }
   ],
   "source": [
    "print(\"Insira 10 números inteiros e ao final será dada a média.\")\n",
    "media=0\n",
    "for i in range(0,10):\n",
    "    x=int(input())\n",
    "    print(\"Valor inserido:\",x)\n",
    "    media+=x\n",
    "print(\"Média:\",media/10)"
   ]
  },
  {
   "attachments": {},
   "cell_type": "markdown",
   "metadata": {},
   "source": [
    "7. Faça um programa que leia 10 inteiros positivos, ignorando não positivos, e imprima sua média."
   ]
  },
  {
   "cell_type": "code",
   "execution_count": 55,
   "metadata": {},
   "outputs": [
    {
     "name": "stdout",
     "output_type": "stream",
     "text": [
      "Insira 10 números positivos e ao final será dada a média. Só serão aceitos números positivos.\n",
      "Valor inserido: 1\n",
      "Valor inserido: -1\n",
      "Valor negtivo. Insira um valor positivo.\n",
      "Valor inserido: 1\n",
      "Valor inserido: 1\n",
      "Valor inserido: 1\n",
      "Valor inserido: 1\n",
      "Valor inserido: 1\n",
      "Valor inserido: 1\n",
      "Valor inserido: 1\n",
      "Valor inserido: 1\n",
      "Valor inserido: 1\n",
      "Média: 1.0\n"
     ]
    }
   ],
   "source": [
    "print(\"Insira 10 números positivos e ao final será dada a média. Só serão aceitos números positivos.\")\n",
    "media=0\n",
    "for i in range (0,10):\n",
    "    x=int(input())\n",
    "    print(\"Valor inserido:\",x)\n",
    "    if x<0:\n",
    "        print(\"Valor negtivo. Insira um valor positivo.\")\n",
    "        x=int(input())\n",
    "        print(\"Valor inserido:\",x)\n",
    "        media=media+x\n",
    "    else:\n",
    "        media=media+x\n",
    "print(\"Média:\",media/10)"
   ]
  },
  {
   "attachments": {},
   "cell_type": "markdown",
   "metadata": {},
   "source": [
    "8. Escreva um programa que leia 10 números e escreva o menor valor lido e o maior valor lido."
   ]
  },
  {
   "cell_type": "code",
   "execution_count": 56,
   "metadata": {},
   "outputs": [
    {
     "name": "stdout",
     "output_type": "stream",
     "text": [
      "Insira 10 números e ao final serão revelados o menor e o maior valor.\n",
      "Valor inserido: 1\n",
      "Valor inserido: 2\n",
      "Valor inserido: 3\n",
      "Valor inserido: 4\n",
      "Valor inserido: 5\n",
      "Valor inserido: 6\n",
      "Valor inserido: 7\n",
      "Valor inserido: 8\n",
      "Valor inserido: 9\n",
      "Valor inserido: 10\n",
      "Maior valor: 10\n",
      "Menor valor: 1\n"
     ]
    }
   ],
   "source": [
    "print(\"Insira 10 números e ao final serão revelados o menor e o maior valor.\")\n",
    "maior=x\n",
    "menor=x\n",
    "for i in range (0,10):\n",
    "    x=int(input())\n",
    "    print(\"Valor inserido:\",x)\n",
    "    if x>maior:\n",
    "        maior=x\n",
    "    if x<menor:\n",
    "        menor=x\n",
    "print(\"Maior valor:\",maior)\n",
    "print(\"Menor valor:\",menor)"
   ]
  },
  {
   "attachments": {},
   "cell_type": "markdown",
   "metadata": {},
   "source": [
    "9. Faça um programa que leia um número inteiro N e depois imprima os N primeiros números naturais ímpares."
   ]
  },
  {
   "cell_type": "code",
   "execution_count": 52,
   "metadata": {},
   "outputs": [
    {
     "name": "stdout",
     "output_type": "stream",
     "text": [
      "Insira um número inteiro e positivo N. Ao final serão revelados os N primeiros números naturais ímpares.\n",
      "Valor inserido: 3\n",
      "1\n",
      "3\n",
      "5\n"
     ]
    }
   ],
   "source": [
    "print(\"Insira um número inteiro e positivo N. Ao final serão revelados os N primeiros números naturais ímpares.\")\n",
    "N=int(input())\n",
    "print(\"Valor inserido:\",N)\n",
    "for x in range(1,N+1):\n",
    "    print((x*2)-1)"
   ]
  },
  {
   "attachments": {},
   "cell_type": "markdown",
   "metadata": {},
   "source": [
    "10. Faça um programa que calcule e mostre a soma dos 50 primeiros números pares."
   ]
  },
  {
   "cell_type": "code",
   "execution_count": 32,
   "metadata": {},
   "outputs": [
    {
     "name": "stdout",
     "output_type": "stream",
     "text": [
      "0\n",
      "2\n",
      "4\n",
      "6\n",
      "8\n",
      "10\n",
      "12\n",
      "14\n",
      "16\n",
      "18\n",
      "20\n",
      "22\n",
      "24\n",
      "26\n",
      "28\n",
      "30\n",
      "32\n",
      "34\n",
      "36\n",
      "38\n",
      "40\n",
      "42\n",
      "44\n",
      "46\n",
      "48\n",
      "50\n",
      "52\n",
      "54\n",
      "56\n",
      "58\n",
      "60\n",
      "62\n",
      "64\n",
      "66\n",
      "68\n",
      "70\n",
      "72\n",
      "74\n",
      "76\n",
      "78\n",
      "80\n",
      "82\n",
      "84\n",
      "86\n",
      "88\n",
      "90\n",
      "92\n",
      "94\n",
      "96\n",
      "98\n"
     ]
    }
   ],
   "source": [
    "for n in range(0,50):\n",
    "    print(n*2)"
   ]
  }
 ],
 "metadata": {
  "kernelspec": {
   "display_name": "base",
   "language": "python",
   "name": "python3"
  },
  "language_info": {
   "codemirror_mode": {
    "name": "ipython",
    "version": 3
   },
   "file_extension": ".py",
   "mimetype": "text/x-python",
   "name": "python",
   "nbconvert_exporter": "python",
   "pygments_lexer": "ipython3",
   "version": "3.9.13"
  },
  "orig_nbformat": 4,
  "vscode": {
   "interpreter": {
    "hash": "f49206fcf84a9145e7e21228cbafa911d1ac18292303b01e865d8267a9c448f7"
   }
  }
 },
 "nbformat": 4,
 "nbformat_minor": 2
}
