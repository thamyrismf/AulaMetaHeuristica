{
 "cells": [
  {
   "attachments": {},
   "cell_type": "markdown",
   "metadata": {},
   "source": [
    "Função para abrir o arquivo"
   ]
  },
  {
   "cell_type": "code",
   "execution_count": 1,
   "metadata": {},
   "outputs": [
    {
     "name": "stdout",
     "output_type": "stream",
     "text": [
      "NAME : xqf131\n",
      "COMMENT : Bonn VLSI data set with 131 points\n",
      "COMMENT : Uni Bonn, Research Institute for Discrete Math\n",
      "COMMENT : Contributed by Andre Rohe\n",
      "TYPE : TSP\n",
      "DIMENSION : 131\n",
      "EDGE_WEIGHT_TYPE : EUC_2D\n",
      "NODE_COORD_SECTION\n",
      "1 0 13\n",
      "2 0 26\n",
      "3 0 27\n",
      "4 0 39\n",
      "5 2 0\n",
      "6 5 13\n",
      "7 5 19\n",
      "8 5 25\n",
      "9 5 31\n",
      "10 5 37\n",
      "11 5 43\n",
      "12 5 8\n",
      "13 8 0\n",
      "14 9 10\n",
      "15 10 10\n",
      "16 11 10\n",
      "17 12 10\n",
      "18 12 5\n",
      "19 15 13\n",
      "20 15 19\n",
      "21 15 25\n",
      "22 15 31\n",
      "23 15 37\n",
      "24 15 43\n",
      "25 15 8\n",
      "26 18 11\n",
      "27 18 13\n",
      "28 18 15\n",
      "29 18 17\n",
      "30 18 19\n",
      "31 18 21\n",
      "32 18 23\n",
      "33 18 25\n",
      "34 18 27\n",
      "35 18 29\n",
      "36 18 31\n",
      "37 18 33\n",
      "38 18 35\n",
      "39 18 37\n",
      "40 18 39\n",
      "41 18 41\n",
      "42 18 42\n",
      "43 18 44\n",
      "44 18 45\n",
      "45 25 11\n",
      "46 25 15\n",
      "47 25 22\n",
      "48 25 23\n",
      "49 25 24\n",
      "50 25 26\n",
      "51 25 28\n",
      "52 25 29\n",
      "53 25 9\n",
      "54 28 16\n",
      "55 28 20\n",
      "56 28 28\n",
      "57 28 30\n",
      "58 28 34\n",
      "59 28 40\n",
      "60 28 43\n",
      "61 28 47\n",
      "62 32 26\n",
      "63 32 31\n",
      "64 33 15\n",
      "65 33 26\n",
      "66 33 29\n",
      "67 33 31\n",
      "68 34 15\n",
      "69 34 26\n",
      "70 34 29\n",
      "71 34 31\n",
      "72 34 38\n",
      "73 34 41\n",
      "74 34 5\n",
      "75 35 17\n",
      "76 35 31\n",
      "77 38 16\n",
      "78 38 20\n",
      "79 38 30\n",
      "80 38 34\n",
      "81 40 22\n",
      "82 41 23\n",
      "83 41 32\n",
      "84 41 34\n",
      "85 41 35\n",
      "86 41 36\n",
      "87 48 22\n",
      "88 48 27\n",
      "89 48 6\n",
      "90 51 45\n",
      "91 51 47\n",
      "92 56 25\n",
      "93 57 12\n",
      "94 57 25\n",
      "95 57 44\n",
      "96 61 45\n",
      "97 61 47\n",
      "98 63 6\n",
      "99 64 22\n",
      "100 71 11\n",
      "101 71 13\n",
      "102 71 16\n",
      "103 71 45\n",
      "104 71 47\n",
      "105 74 12\n",
      "106 74 16\n",
      "107 74 20\n",
      "108 74 24\n",
      "109 74 29\n",
      "110 74 35\n",
      "111 74 39\n",
      "112 74 6\n",
      "113 77 21\n",
      "114 78 10\n",
      "115 78 32\n",
      "116 78 35\n",
      "117 78 39\n",
      "118 79 10\n",
      "119 79 33\n",
      "120 79 37\n",
      "121 80 10\n",
      "122 80 41\n",
      "123 80 5\n",
      "124 81 17\n",
      "125 84 20\n",
      "126 84 24\n",
      "127 84 29\n",
      "128 84 34\n",
      "129 84 38\n",
      "130 84 6\n",
      "131 107 27\n",
      "EOF\n",
      "\n"
     ]
    }
   ],
   "source": [
    "# Abre o arquivo em modo de leitura\n",
    "nome_do_arquivo = \"xqf131.tsp\"\n",
    "try:\n",
    "    with open(nome_do_arquivo, 'r') as arquivo:\n",
    "        # Lê e imprime o conteúdo do arquivo\n",
    "        conteudo = arquivo.read()\n",
    "        print(conteudo)\n",
    "except FileNotFoundError:\n",
    "    print(f\"O arquivo '{nome_do_arquivo}' não foi encontrado.\")\n",
    "except Exception as e:\n",
    "    print(f\"Ocorreu um erro: {str(e)}\")\n"
   ]
  },
  {
   "attachments": {},
   "cell_type": "markdown",
   "metadata": {},
   "source": [
    "Função para plotar um gráfico com os dados"
   ]
  },
  {
   "cell_type": "code",
   "execution_count": 13,
   "metadata": {},
   "outputs": [
    {
     "data": {
      "image/png": "[encoded data removed]",
      "text/plain": [
       "<Figure size 640x480 with 1 Axes>"
      ]
     },
     "metadata": {},
     "output_type": "display_data"
    }
   ],
   "source": [
    "import matplotlib.pyplot as plt\n",
    "\n",
    "def ler_arquivo_tsp(xqf131):\n",
    "    pontos = []\n",
    "    with open(nome_arquivo, 'r') as arquivo:\n",
    "        lendo_pontos = False\n",
    "        for linha in arquivo:\n",
    "            linha = linha.strip()\n",
    "            if lendo_pontos:\n",
    "                if linha == \"EOF\":\n",
    "                    break\n",
    "                numero, x, y = map(float, linha.split())\n",
    "                pontos.append((x, y))\n",
    "            elif linha == \"NODE_COORD_SECTION\":\n",
    "                lendo_pontos = True\n",
    "    return pontos\n",
    "\n",
    "def plotar_pontos(pontos):\n",
    "    x, y = zip(*pontos)\n",
    "    plt.scatter(x, y, marker='o', color='b', label='Pontos')\n",
    "    plt.xlabel('Coordenada X')\n",
    "    plt.ylabel('Coordenada Y')\n",
    "    plt.title('Pontos do Arquivo TSP')\n",
    "    plt.legend()\n",
    "    plt.grid(True)\n",
    "    plt.show()\n",
    "\n",
    "# Nome do arquivo TSP\n",
    "nome_arquivo = 'xqf131.tsp'\n",
    "\n",
    "# Ler as coordenadas dos pontos\n",
    "pontos = ler_arquivo_tsp(nome_arquivo)\n",
    "\n",
    "# Plotar os pontos em um gráfico\n",
    "plotar_pontos(pontos)"
   ]
  },
  {
   "attachments": {},
   "cell_type": "markdown",
   "metadata": {},
   "source": [
    "***Sobre o algoritmo genético:"
   ]
  },
  {
   "attachments": {},
   "cell_type": "markdown",
   "metadata": {},
   "source": [
    "Inicialização: É a criação de uma população inicial de modelos, em que cada solução representa um indivíduo na população. Cada rota criada é uma solução, e são usadas heurísticas para descobrir uma rota."
   ]
  },
  {
   "attachments": {},
   "cell_type": "markdown",
   "metadata": {},
   "source": [
    "Cálculo da fitness: Função de avaliação, que mede o quão adaptado está o indivíduo ao ambiente.  Em termos computacionais, esta medida indica o quão bem um dado candidato à solução (indivíduo) é\n",
    "capaz de resolver o problema (ambiente). Em problemas de otimização de roteamento, o fitness pode ser o somatório da distância total percorrida, a fim de descobrir a menor distância possível para percorrer os 131 pontos dados."
   ]
  },
  {
   "attachments": {},
   "cell_type": "markdown",
   "metadata": {},
   "source": [
    "Seleção: Processo de escolha que usualmente seleciona os indivíduos mais adaptados (que apresentam um maior fitness), para participarem do processo de reprodução. Um dos métodos mais utilizados é a seleção por torneio, que é recomendada quando há uma grande diferença relativa no valor do fitness dos indivíduos."
   ]
  },
  {
   "attachments": {},
   "cell_type": "markdown",
   "metadata": {},
   "source": [
    "--- INICIALIZANDO O CÓDIGO ---"
   ]
  },
  {
   "cell_type": "code",
   "execution_count": 16,
   "metadata": {},
   "outputs": [],
   "source": [
    "import random\n",
    "\n",
    "def ler_arquivo_tsp(nome_do_arquivo):\n",
    "    cidades = []\n",
    "    with open(nome_do_arquivo, 'r') as arquivo:\n",
    "        lendo_coord = False\n",
    "        for linha in arquivo:\n",
    "            linha = linha.strip()\n",
    "            if linha.startswith(\"NODE_COORD_SECTION\"):\n",
    "                lendo_coord = True\n",
    "            elif linha.startswith(\"EOF\"):\n",
    "                break\n",
    "            elif lendo_coord:\n",
    "                partes = linha.split()\n",
    "                cidade_id = int(partes[0])\n",
    "                x = float(partes[1])\n",
    "                y = float(partes[2])\n",
    "                cidades.append((cidade_id, x, y))\n",
    "    return cidades\n",
    "\n",
    "def criar_populacao_inicial(cidades, tamanho_populacao):\n",
    "    # Crie indivíduos como permutações aleatórias das cidades\n",
    "    populacao = []\n",
    "    cidades_sem_origem = cidades[1:]  # Exclua a cidade de origem\n",
    "    for _ in range(tamanho_populacao):\n",
    "        cromossomo = random.sample(cidades_sem_origem, len(cidades_sem_origem))\n",
    "        cromossomo.insert(0, cidades[0])  # Adicione a cidade de origem no início\n",
    "        populacao.append(cromossomo)\n",
    "    return populacao\n",
    "\n",
    "# Substitua \"exemplo.tsp\" pelo nome do seu arquivo .tsp\n",
    "nome_do_arquivo_tsp = \"xqf131.tsp\"\n",
    "\n",
    "# Leitura das coordenadas das cidades do arquivo .tsp\n",
    "cidades = ler_arquivo_tsp(nome_do_arquivo_tsp)\n",
    "\n",
    "# Inicialização da população\n",
    "tamanho_populacao = 20  # Tamanho da população inicial\n",
    "populacao_inicial = criar_populacao_inicial(cidades, tamanho_populacao)\n",
    "\n",
    "# Agora, a variável \"populacao_inicial\" contém a população inicial de cromossomos\n"
   ]
  }
 ],
 "metadata": {
  "kernelspec": {
   "display_name": "base",
   "language": "python",
   "name": "python3"
  },
  "language_info": {
   "codemirror_mode": {
    "name": "ipython",
    "version": 3
   },
   "file_extension": ".py",
   "mimetype": "text/x-python",
   "name": "python",
   "nbconvert_exporter": "python",
   "pygments_lexer": "ipython3",
   "version": "3.9.13"
  },
  "orig_nbformat": 4,
  "vscode": {
   "interpreter": {
    "hash": "f49206fcf84a9145e7e21228cbafa911d1ac18292303b01e865d8267a9c448f7"
   }
  }
 },
 "nbformat": 4,
 "nbformat_minor": 2
}
